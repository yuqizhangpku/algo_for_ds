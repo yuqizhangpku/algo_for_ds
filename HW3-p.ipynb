{
 "cells": [
  {
   "cell_type": "markdown",
   "metadata": {},
   "source": [
    "# Max Flow Applications\n",
    "\n",
    "The purpose of this assignment is to investigate applications of finding a Max Flow. The problem asks you to design and implement an algorithm for shipping a material between nodes with different supply and demand requirements.\n",
    "\n",
    "* Please write code *only* in the bodies of the two functions, that is, following the TODO comments.\n",
    "* Be careful not to use varibles defined outside of the functions.\n",
    "* Breaking the two above rules may lead to 0 grades."
   ]
  },
  {
   "cell_type": "markdown",
   "metadata": {},
   "source": [
    "## Movie distribution\n",
    "\n",
    "First solve Problem 1 from hw3-t. \n",
    "\n",
    "Now suppose a movie distributor would like to ship a copy of a film from CA to every other state. There are therefore 48 units to ship out of CA, and each other state receives 1 unit. \n",
    "\n",
    "The dataset contiguous-usa.dat lists the adjacent states in the US. Each line lists two adjacent states; thus AK and HI are omitted, but DC is included in the data. The following code reads in the graph of US states."
   ]
  },
  {
   "cell_type": "code",
   "execution_count": 3,
   "metadata": {
    "collapsed": true
   },
   "outputs": [],
   "source": [
    "import networkx as nx\n",
    "G = nx.Graph()\n",
    "\n",
    "usa = open('contiguous-usa.dat')\n",
    "for line in usa:\n",
    "    s1, s2 = line.strip().split()\n",
    "    G.add_edge(s1, s2)"
   ]
  },
  {
   "cell_type": "markdown",
   "metadata": {},
   "source": [
    "We now encode the demands into the graph."
   ]
  },
  {
   "cell_type": "code",
   "execution_count": 4,
   "metadata": {
    "collapsed": true
   },
   "outputs": [],
   "source": [
    "for state in G.nodes():\n",
    "    if state != 'CA':\n",
    "        G.node[state]['demand'] = 1\n",
    "G.node['CA']['demand'] = -48"
   ]
  },
  {
   "cell_type": "markdown",
   "metadata": {},
   "source": [
    "We will assign a uniform capacity of 16 to each edge. Since CA has only three adjacent states, this is the smallest possible uniform capacity that allows one to ship all 48 units out of CA. As we have created an undirected graph, and flows have directions, we first convert the graph to a directed graph."
   ]
  },
  {
   "cell_type": "code",
   "execution_count": 5,
   "metadata": {
    "collapsed": true
   },
   "outputs": [],
   "source": [
    "G = nx.DiGraph(G)\n",
    "uniform_capacity = 16\n",
    "for (s1, s2) in G.edges():\n",
    "    G.edge[s1][s2]['capacity'] = uniform_capacity"
   ]
  },
  {
   "cell_type": "markdown",
   "metadata": {},
   "source": [
    "Complete the following function to implement your algorithm to find a flow with demands. Your function should work correctly for any input, not just the movie instance considered here. As always, you are encouraged to define auxiliary functions as needed for clarity."
   ]
  },
  {
   "cell_type": "code",
   "execution_count": 10,
   "metadata": {},
   "outputs": [
    {
     "name": "stdout",
     "output_type": "stream",
     "text": [
      "{'WA': {'OR': 0, 'ID': 0}, 'DE': {'MD': 0, 'NJ': 0, 'PA': 0}, 'DC': {'MD': 0, 'VA': 0}, 'WI': {'IA': 0, 'MN': 0, 'MI': 1, 'IL': 0}, 'WV': {'MD': 0, 'OH': 0, 'VA': 0, 'PA': 0, 'KY': 0}, 'FL': {'AL': 0, 'GA': 0}, 'WY': {'CO': 0, 'UT': 0, 'NE': 16, 'MT': 0, 'ID': 0, 'SD': 2}, 'NH': {'ME': 1, 'MA': 0, 'VT': 0}, 'NJ': {'NY': 0, 'DE': 0, 'PA': 0}, 'NM': {'CO': 0, 'AZ': 0, 'OK': 4, 'TX': 2}, 'TX': {'LA': 1, 'AR': 0, 'OK': 0, 'NM': 0}, 'LA': {'AR': 0, 'MS': 0, 'TX': 0}, 'NC': {'SC': 1, 'TN': 0, 'GA': 0, 'VA': 0}, 'ND': {'MT': 0, 'MN': 2, 'SD': 0}, 'NE': {'CO': 0, 'MO': 14, 'KS': 0, 'IA': 1, 'WY': 0, 'SD': 0}, 'TN': {'VA': 4, 'MS': 0, 'MO': 0, 'NC': 2, 'AL': 2, 'AR': 0, 'GA': 1, 'KY': 0}, 'NY': {'NJ': 0, 'MA': 2, 'PA': 0, 'VT': 3, 'CT': 1}, 'PA': {'MD': 0, 'NJ': 1, 'OH': 0, 'DE': 0, 'WV': 0, 'NY': 7}, 'RI': {'MA': 0, 'CT': 0}, 'NV': {'UT': 15, 'CA': 0, 'ID': 0, 'AZ': 0, 'OR': 0}, 'VA': {'MD': 2, 'NC': 0, 'DC': 1, 'TN': 0, 'WV': 0, 'KY': 0}, 'CO': {'OK': 8, 'NM': 0, 'UT': 0, 'NE': 0, 'KS': 1, 'WY': 0}, 'CA': {'AZ': 16, 'OR': 16, 'NV': 16}, 'AL': {'TN': 0, 'FL': 1, 'GA': 0, 'MS': 0}, 'AR': {'OK': 0, 'TX': 0, 'LA': 0, 'MO': 0, 'TN': 0, 'MS': 1}, 'VT': {'NH': 2, 'NY': 0, 'MA': 0}, 'IL': {'MO': 0, 'WI': 0, 'IN': 1, 'IA': 0, 'KY': 0}, 'GA': {'NC': 0, 'AL': 0, 'TN': 0, 'SC': 0, 'FL': 0}, 'IN': {'KY': 0, 'OH': 0, 'MI': 0, 'IL': 0}, 'IA': {'MO': 0, 'MN': 0, 'NE': 0, 'WI': 0, 'IL': 2, 'SD': 0}, 'MA': {'NH': 0, 'NY': 0, 'VT': 0, 'RI': 1, 'CT': 0}, 'AZ': {'UT': 8, 'CA': 0, 'NM': 7, 'NV': 0}, 'ID': {'WA': 0, 'UT': 0, 'MT': 6, 'NV': 0, 'OR': 0, 'WY': 7}, 'CT': {'NY': 0, 'MA': 0, 'RI': 0}, 'ME': {'NH': 0}, 'MD': {'VA': 0, 'DE': 1, 'DC': 0, 'WV': 0, 'PA': 0}, 'OK': {'CO': 0, 'NM': 0, 'TX': 0, 'MO': 9, 'KS': 0, 'AR': 2}, 'OH': {'MI': 0, 'WV': 0, 'PA': 9, 'IN': 0, 'KY': 0}, 'UT': {'NV': 0, 'CO': 10, 'AZ': 0, 'ID': 0, 'WY': 12}, 'MO': {'KS': 0, 'OK': 0, 'NE': 0, 'TN': 10, 'AR': 0, 'IL': 0, 'IA': 0, 'KY': 12}, 'MN': {'IA': 0, 'ND': 0, 'WI': 2, 'SD': 0}, 'MI': {'IN': 0, 'WI': 0, 'OH': 0}, 'KS': {'CO': 0, 'MO': 0, 'OK': 0, 'NE': 0}, 'MT': {'SD': 2, 'ND': 3, 'WY': 0, 'ID': 0}, 'MS': {'TN': 0, 'LA': 0, 'AR': 0, 'AL': 0}, 'SC': {'NC': 0, 'GA': 0}, 'KY': {'VA': 0, 'OH': 10, 'MO': 0, 'TN': 0, 'WV': 1, 'IL': 0, 'IN': 0}, 'SD': {'MN': 1, 'ND': 0, 'NE': 0, 'MT': 0, 'IA': 2, 'WY': 0}, 'OR': {'CA': 0, 'WA': 1, 'NV': 0, 'ID': 14}}\n"
     ]
    }
   ],
   "source": [
    "\n",
    "def flow_with_demands(graph):\n",
    "    demands = []\n",
    "    for state in graph.nodes():\n",
    "        demands.append(graph.node[state]['demand'])\n",
    "\n",
    "    if sum(demands) != 0:\n",
    "        raise nx.NetworkXUnfeasible(\"No feasible Flow.\")\n",
    "        \n",
    "    def initialize_the_flow(G):        # initialize the flow\n",
    "        keys = []\n",
    "        values = []\n",
    "        for s1 in G.nodes():\n",
    "            keys.append(s1)\n",
    "            res = dict()\n",
    "            for (s0, s2) in G.edges():\n",
    "                if s0 == s1:\n",
    "                    res[s2] = 0\n",
    "            values.append(res)\n",
    "        flow = dict()\n",
    "        for i, k in enumerate(keys):\n",
    "            flow[k] = values[i]\n",
    "        return flow\n",
    "\n",
    "    def Get_residual_graph(G, flow):        # Get the residual_graph\n",
    "        G_res = nx.DiGraph()\n",
    "        for (s1, s2) in G.edges():\n",
    "            if flow[s1][s2] > 0: \n",
    "                G_res.add_edge(s2, s1)\n",
    "                G_res[s2][s1]['capacity'] = flow[s1][s2]\n",
    "\n",
    "            if flow[s1][s2] < G[s1][s2]['capacity']:\n",
    "                G_res.add_edge(s1, s2)\n",
    "                G_res[s1][s2]['capacity'] = G[s1][s2]['capacity'] - flow[s1][s2]\n",
    "\n",
    "        return G_res\n",
    "\n",
    "    def BFS(G, root):     # use BFS to find a simple_path in residual graph\n",
    "        queue = [root]\n",
    "        discovered = [root]\n",
    "        prev = dict()\n",
    "        while len(queue) > 0:\n",
    "            u = queue[0]\n",
    "            queue = queue[1:]\n",
    "            for v in G.neighbors(u):\n",
    "                if v not in discovered:\n",
    "                    prev[v] = u\n",
    "                    discovered.append(v)\n",
    "                    queue.append(v)\n",
    "        return [prev, discovered]\n",
    "\n",
    "    def Find_Path(s, t, G):   # find the simple path using BFS above\n",
    "        prev, discovered = BFS(G, s)\n",
    "        if t not in discovered:\n",
    "            return None\n",
    "        else:\n",
    "            path = [t]\n",
    "            key = t\n",
    "            while key != None:\n",
    "                if key in prev.keys():\n",
    "                    path.append(prev[key])\n",
    "                    key = prev[key]\n",
    "                else:\n",
    "                    key = None\n",
    "            return path[::-1]\n",
    "\n",
    "    def Augment_flow(path, G_res, G, flow):  #update the flow dict according to the G_res calculatd above\n",
    "        capacities = []\n",
    "        for k in range(len(path) - 1):\n",
    "            s1 = path[k]\n",
    "            s2 = path[k + 1]\n",
    "            capacities.append(G_res.edge[s1][s2]['capacity'])\n",
    "        add_flow = min(capacities)\n",
    "        for k in range(len(path) - 1):\n",
    "            s1 = path[k]\n",
    "            s2 = path[k + 1]\n",
    "            if (s1, s2) in G.edges():\n",
    "                flow[s1][s2] = flow[s1][s2] + add_flow\n",
    "            else:\n",
    "                flow[s2][s1] = flow[s2][s1] - add_flow\n",
    "        return flow\n",
    "\n",
    "    # create sourse 'S'\n",
    "    G = graph.copy()\n",
    "    G.add_node('S')\n",
    "    for state in G.nodes():\n",
    "        if state != 'S':\n",
    "            if G.node[state]['demand'] < 0:\n",
    "                G.add_edge('S', state)\n",
    "                G.edge['S'][state]['capacity'] = -G.node[state]['demand']\n",
    "\n",
    "    # create sink 'T'\n",
    "    G.add_node('T')\n",
    "    for state in G.nodes():\n",
    "        if state != 'S' and state != 'T':\n",
    "            if G.node[state]['demand'] > 0:\n",
    "                G.add_edge(state, 'T')\n",
    "                G.edge[state]['T']['capacity'] = G.node[state]['demand']\n",
    "\n",
    "\n",
    "    flow = initialize_the_flow(G)\n",
    "    G_res = Get_residual_graph(G, flow)\n",
    "    path = Find_Path('S', 'T', G_res)\n",
    "    while path != None:\n",
    "        flow = Augment_flow(path, G_res, G, flow)\n",
    "        G_res = Get_residual_graph(G, flow)\n",
    "        path = Find_Path('S', 'T', G_res)\n",
    "\n",
    "  \n",
    "    demand = 0\n",
    "    for state in G.nodes():\n",
    "        if state != 'S' and state != 'T':\n",
    "            if G.node[state]['demand'] > 0:\n",
    "                demand += G.node[state]['demand']\n",
    "\n",
    "    max_flow = 0\n",
    "    for (s1, s2) in G.edges():\n",
    "        if s1 == 'S':\n",
    "            max_flow += flow['S'][s2]\n",
    "\n",
    "    if max_flow == demand: # Find the flow we want & remove 'S' and 'T'\n",
    "        for key in flow.keys():\n",
    "            if 'T' in flow[key].keys():\n",
    "                del flow[key]['T']\n",
    "            if 'S' in flow[key].keys():\n",
    "                del flow[key]['S']\n",
    "        del flow['S']\n",
    "        del flow['T']\n",
    "        return flow\n",
    "    else:\n",
    "        raise nx.NetworkXUnfeasible(\"No Feasible Flow.\")\n"
   ]
  },
  {
   "cell_type": "markdown",
   "metadata": {},
   "source": [
    "To verify that your solution is correct, implement a function that computes the total flow into each node (which will be negative for supply nodes)."
   ]
  },
  {
   "cell_type": "code",
   "execution_count": 12,
   "metadata": {},
   "outputs": [
    {
     "name": "stdout",
     "output_type": "stream",
     "text": [
      "{'WA': 1, 'DE': 1, 'DC': 1, 'WI': 1, 'WV': 1, 'FL': 1, 'WY': 1, 'NH': 1, 'NJ': 1, 'NM': 1, 'TX': 1, 'LA': 1, 'NC': 1, 'ND': 1, 'NE': 1, 'TN': 1, 'NY': 1, 'PA': 1, 'RI': 1, 'NV': 1, 'VA': 1, 'CO': 1, 'CA': -48, 'AL': 1, 'AR': 1, 'VT': 1, 'IL': 1, 'GA': 1, 'IN': 1, 'IA': 1, 'OK': 1, 'AZ': 1, 'ID': 1, 'CT': 1, 'ME': 1, 'MD': 1, 'MA': 1, 'OH': 1, 'UT': 1, 'MO': 1, 'MN': 1, 'MI': 1, 'KS': 1, 'MT': 1, 'MS': 1, 'SC': 1, 'KY': 1, 'OR': 1, 'SD': 1}\n"
     ]
    }
   ],
   "source": [
    "def divergence(flow):\n",
    "    \"\"\"Computes the total flow into each node according to the given flow dict.\n",
    "    \n",
    "    Args:\n",
    "        flow: the flow dict recording flow between nodes.\n",
    "        \n",
    "    Returns:\n",
    "        A dict of the net flow into each node.\n",
    "    \"\"\"\n",
    "    into_node = {}\n",
    "    for k1 in flow.keys():\n",
    "        if k1 not in into_node.keys():\n",
    "            into_node[k1] = 0\n",
    "        for k2 in flow[k1].keys():\n",
    "            if k2 not in into_node.keys():\n",
    "                into_node[k2] = 0\n",
    "            into_node[k1] -= flow[k1][k2]\n",
    "            into_node[k2] += flow[k1][k2]\n",
    "    return into_node\n",
    "    # TODO: Implement the function.\n",
    " "
   ]
  },
  {
   "cell_type": "markdown",
   "metadata": {},
   "source": [
    "The following code performs a sanity check on your function (but does not completely confirm correctness)."
   ]
  },
  {
   "cell_type": "code",
   "execution_count": 13,
   "metadata": {},
   "outputs": [
    {
     "name": "stdout",
     "output_type": "stream",
     "text": [
      "Flow satisfies all demands: True\n"
     ]
    }
   ],
   "source": [
    "flow = flow_with_demands(G)\n",
    "div = divergence(flow)\n",
    "print \"Flow satisfies all demands:\", all(div[n] == G.node[n]['demand'] for n in G.nodes())"
   ]
  },
  {
   "cell_type": "code",
   "execution_count": null,
   "metadata": {
    "collapsed": true
   },
   "outputs": [],
   "source": []
  }
 ],
 "metadata": {
  "kernelspec": {
   "display_name": "Python 2",
   "language": "python",
   "name": "python2"
  },
  "language_info": {
   "codemirror_mode": {
    "name": "ipython",
    "version": 2
   },
   "file_extension": ".py",
   "mimetype": "text/x-python",
   "name": "python",
   "nbconvert_exporter": "python",
   "pygments_lexer": "ipython2",
   "version": "2.7.13"
  }
 },
 "nbformat": 4,
 "nbformat_minor": 1
}
